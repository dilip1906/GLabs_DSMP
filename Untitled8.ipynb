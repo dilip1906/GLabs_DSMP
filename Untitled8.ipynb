{
  "nbformat": 4,
  "nbformat_minor": 0,
  "metadata": {
    "colab": {
      "name": "Untitled8.ipynb",
      "provenance": [],
      "collapsed_sections": [],
      "include_colab_link": true
    },
    "kernelspec": {
      "name": "python3",
      "display_name": "Python 3"
    }
  },
  "cells": [
    {
      "cell_type": "markdown",
      "metadata": {
        "id": "view-in-github",
        "colab_type": "text"
      },
      "source": [
        "<a href=\"https://colab.research.google.com/github/dilip1906/GLabs_DSMP/blob/master/Untitled8.ipynb\" target=\"_parent\"><img src=\"https://colab.research.google.com/assets/colab-badge.svg\" alt=\"Open In Colab\"/></a>"
      ]
    },
    {
      "cell_type": "code",
      "metadata": {
        "id": "TMYduEy6mX1b",
        "colab_type": "code",
        "colab": {
          "base_uri": "https://localhost:8080/",
          "height": 71
        },
        "outputId": "a84cf0ba-b257-4c77-bc8f-edbc2e1eed5c"
      },
      "source": [
        "# central line theorem\n",
        "import numpy as np\n",
        "  \n",
        "# output array \n",
        "population = np.random.randint(low = 1, high = 70, size = 10000) \n",
        "print (population)  \n",
        "\n",
        "means_of_samples = []\n",
        "\n",
        "for i in range(100):\n",
        "  sample = np.random.choice(population,100)\n",
        "  means_of_samples.append(np.mean(sample))\n",
        "\n",
        "len(means_of_samples)\n",
        "np.mean(population)\n"
      ],
      "execution_count": 13,
      "outputs": [
        {
          "output_type": "stream",
          "text": [
            "[ 6 10 64 ... 30 33 33]\n"
          ],
          "name": "stdout"
        },
        {
          "output_type": "execute_result",
          "data": {
            "text/plain": [
              "35.0909"
            ]
          },
          "metadata": {
            "tags": []
          },
          "execution_count": 13
        }
      ]
    },
    {
      "cell_type": "code",
      "metadata": {
        "id": "9ZuZcGlDv2zo",
        "colab_type": "code",
        "colab": {
          "base_uri": "https://localhost:8080/",
          "height": 54
        },
        "outputId": "b0499da4-6623-4e6b-e699-b26aabd772e9"
      },
      "source": [
        "\n",
        "\n",
        "np.mean(means_of_samples)"
      ],
      "execution_count": 14,
      "outputs": [
        {
          "output_type": "execute_result",
          "data": {
            "text/plain": [
              "34.9056"
            ]
          },
          "metadata": {
            "tags": []
          },
          "execution_count": 14
        }
      ]
    },
    {
      "cell_type": "code",
      "metadata": {
        "id": "I5hfqGQG04k9",
        "colab_type": "code",
        "colab": {
          "base_uri": "https://localhost:8080/",
          "height": 54
        },
        "outputId": "20b2aac3-1066-4564-c531-22b8799d8765"
      },
      "source": [
        "print(np.var(population), np.var(means_of_samples))"
      ],
      "execution_count": 15,
      "outputs": [
        {
          "output_type": "stream",
          "text": [
            "390.90723719 3.106090640000001\n"
          ],
          "name": "stdout"
        }
      ]
    },
    {
      "cell_type": "code",
      "metadata": {
        "id": "IUMksUR92ViD",
        "colab_type": "code",
        "colab": {}
      },
      "source": [
        "import pandas as pd\n",
        "df = pd.read_csv('/content/housing.csv')"
      ],
      "execution_count": 0,
      "outputs": []
    }
  ]
}